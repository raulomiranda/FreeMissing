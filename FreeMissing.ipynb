{
  "nbformat": 4,
  "nbformat_minor": 0,
  "metadata": {
    "colab": {
      "provenance": [],
      "toc_visible": true,
      "mount_file_id": "14Vzl1V1gsAO-uBT_DFfuxMSZRaKZ9WS4",
      "authorship_tag": "ABX9TyOmfvrhmw7xxCkC9BNyHU6U",
      "include_colab_link": true
    },
    "kernelspec": {
      "name": "python3",
      "display_name": "Python 3"
    },
    "language_info": {
      "name": "python"
    }
  },
  "cells": [
    {
      "cell_type": "markdown",
      "metadata": {
        "id": "view-in-github",
        "colab_type": "text"
      },
      "source": [
        "<a href=\"https://colab.research.google.com/github/raulomiranda/FreeMissing/blob/main/FreeMissing.ipynb\" target=\"_parent\"><img src=\"https://colab.research.google.com/assets/colab-badge.svg\" alt=\"Open In Colab\"/></a>"
      ]
    },
    {
      "cell_type": "code",
      "source": [
        "import pandas as pd\n",
        "df = pd.read_excel(\"/content/drive/MyDrive/Base_teste_missing.xlsx\")\n",
        "\n",
        "# total de linhas\n",
        "totalLines = len(df.index)\n",
        "print(\"Total de linhas\", totalLines, \"\", sep= \"\\n\")\n",
        "\n",
        "#linhas em branco por coluna\n",
        "missingLines = df.isna().sum()\n",
        "print(\"Linas perdidas por coluna\",missingLines.to_string(), \"\",sep= \"\\n\")\n",
        "\n",
        "#missing por coluna\n",
        "\n",
        "missing = (missingLines / totalLines)*100\n",
        "print(\"Porcentagem de perda por coluna\", missing.to_string(), \"\",sep= \"\\n\")\n",
        "\n",
        "df1 = df.dropna(subset=['Variável 1'])\n",
        "df2 = df.dropna(subset=['Variável 2'])\n",
        "df3 = df.dropna(subset=['Variável 3'])\n",
        "\n",
        "##print(df1)\n",
        "\n",
        "##print(df, df1)\n",
        "\n",
        "## se a linha contem algum n/a deve ser contada\n",
        "## remover as linhas com erro para uma amostra\n",
        "## calcular a % de missing"
      ],
      "metadata": {
        "id": "ztC0Z5ONllCE",
        "colab": {
          "base_uri": "https://localhost:8080/"
        },
        "outputId": "008561a0-dc49-4247-8e01-d5b9c3d1bd93"
      },
      "execution_count": null,
      "outputs": [
        {
          "output_type": "stream",
          "name": "stdout",
          "text": [
            "Total de linhas\n",
            "120\n",
            "\n",
            "Linas perdidas por coluna\n",
            "Variável 1    12\n",
            "Variável 2    10\n",
            "Variável 3     8\n",
            "\n",
            "Porcentagem de perda por coluna\n",
            "Variável 1    10.000000\n",
            "Variável 2     8.333333\n",
            "Variável 3     6.666667\n",
            "\n"
          ]
        }
      ]
    },
    {
      "cell_type": "code",
      "source": [],
      "metadata": {
        "id": "Ri7OxfrdHQ0r"
      },
      "execution_count": null,
      "outputs": []
    }
  ]
}